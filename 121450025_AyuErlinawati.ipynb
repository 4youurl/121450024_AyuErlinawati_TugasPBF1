{
 "cells": [
  {
   "cell_type": "code",
   "execution_count": 1,
   "id": "d76284c3",
   "metadata": {},
   "outputs": [],
   "source": [
    "import pandas as pd"
   ]
  },
  {
   "cell_type": "code",
   "execution_count": 11,
   "id": "08dc3edb",
   "metadata": {},
   "outputs": [],
   "source": [
    "data = [[\"Lebih sedikit menggunakan memori \",\"Kurang aman dibandingkan Object Oriented\"],\n",
    "       [\"Mudah dipahami dan digunakan bagi pemula \", \"Tidak memiliki akses modifiers\"],\n",
    "       [\"lebih menekankan pada logika dan proses\", \"Lebih sulit dimodifikasi\"],\n",
    "       [\"Cocok untuk untuk project sederhana\", \"Kurang cocok untuk project yang kompleks\"]]"
   ]
  },
  {
   "cell_type": "code",
   "execution_count": 14,
   "id": "7b0386f3",
   "metadata": {},
   "outputs": [
    {
     "name": "stdout",
     "output_type": "stream",
     "text": [
      "1.kelebihan dan kekurangan paradigma procedural dibandingkan dengan object oriented\n"
     ]
    },
    {
     "data": {
      "text/html": [
       "<div>\n",
       "<style scoped>\n",
       "    .dataframe tbody tr th:only-of-type {\n",
       "        vertical-align: middle;\n",
       "    }\n",
       "\n",
       "    .dataframe tbody tr th {\n",
       "        vertical-align: top;\n",
       "    }\n",
       "\n",
       "    .dataframe thead th {\n",
       "        text-align: right;\n",
       "    }\n",
       "</style>\n",
       "<table border=\"1\" class=\"dataframe\">\n",
       "  <thead>\n",
       "    <tr style=\"text-align: right;\">\n",
       "      <th></th>\n",
       "      <th>kelebihan</th>\n",
       "      <th>kekurangan</th>\n",
       "    </tr>\n",
       "  </thead>\n",
       "  <tbody>\n",
       "    <tr>\n",
       "      <th>0</th>\n",
       "      <td>Algoritma yang digunakan lebih jelas</td>\n",
       "      <td>Kode yang digunakan lebih banyak</td>\n",
       "    </tr>\n",
       "    <tr>\n",
       "      <th>1</th>\n",
       "      <td>Cocok digunakan untuk projek besar</td>\n",
       "      <td>Lebih banyak menggunakan memori dibandingkan F...</td>\n",
       "    </tr>\n",
       "    <tr>\n",
       "      <th>2</th>\n",
       "      <td>lebih mudah untuk melakukan generalisasi dan s...</td>\n",
       "      <td>Berpotensi besar melakukan generalisasi yang b...</td>\n",
       "    </tr>\n",
       "    <tr>\n",
       "      <th>3</th>\n",
       "      <td>Data yang digunakan dapat diubah</td>\n",
       "      <td>Tidak mendukung pemrograman paralel</td>\n",
       "    </tr>\n",
       "  </tbody>\n",
       "</table>\n",
       "</div>"
      ],
      "text/plain": [
       "                                           kelebihan  \\\n",
       "0              Algoritma yang digunakan lebih jelas    \n",
       "1                Cocok digunakan untuk projek besar    \n",
       "2  lebih mudah untuk melakukan generalisasi dan s...   \n",
       "3                   Data yang digunakan dapat diubah   \n",
       "\n",
       "                                          kekurangan  \n",
       "0                   Kode yang digunakan lebih banyak  \n",
       "1  Lebih banyak menggunakan memori dibandingkan F...  \n",
       "2  Berpotensi besar melakukan generalisasi yang b...  \n",
       "3                Tidak mendukung pemrograman paralel  "
      ]
     },
     "execution_count": 14,
     "metadata": {},
     "output_type": "execute_result"
    }
   ],
   "source": [
    "df = pd.DataFrame(data,columns=[\"kelebihan\", \"kekurangan\"])\n",
    "print(\"1.kelebihan dan kekurangan paradigma procedural dibandingkan dengan object oriented\")\n",
    "df"
   ]
  },
  {
   "cell_type": "code",
   "execution_count": 15,
   "id": "b39a2aee",
   "metadata": {},
   "outputs": [],
   "source": [
    "data = [[\"Algoritma yang digunakan lebih jelas \",\"Kode yang digunakan lebih banyak\"],\n",
    "       [\"Cocok digunakan untuk projek besar \", \"Lebih banyak menggunakan memori dibandingkan Functional\"],\n",
    "       [\"lebih mudah untuk melakukan generalisasi dan spesialisasi \", \"Berpotensi besar melakukan generalisasi yang berlebihan.\"],\n",
    "       [\"Data yang digunakan dapat diubah\", \"Tidak mendukung pemrograman paralel\"]]"
   ]
  },
  {
   "cell_type": "code",
   "execution_count": 16,
   "id": "9aa3f949",
   "metadata": {},
   "outputs": [
    {
     "name": "stdout",
     "output_type": "stream",
     "text": [
      "2.kelebihan dan kekurangan paradigma object oriented dibandingkan dengan functional\n"
     ]
    },
    {
     "data": {
      "text/html": [
       "<div>\n",
       "<style scoped>\n",
       "    .dataframe tbody tr th:only-of-type {\n",
       "        vertical-align: middle;\n",
       "    }\n",
       "\n",
       "    .dataframe tbody tr th {\n",
       "        vertical-align: top;\n",
       "    }\n",
       "\n",
       "    .dataframe thead th {\n",
       "        text-align: right;\n",
       "    }\n",
       "</style>\n",
       "<table border=\"1\" class=\"dataframe\">\n",
       "  <thead>\n",
       "    <tr style=\"text-align: right;\">\n",
       "      <th></th>\n",
       "      <th>kelebihan</th>\n",
       "      <th>kekurangan</th>\n",
       "    </tr>\n",
       "  </thead>\n",
       "  <tbody>\n",
       "    <tr>\n",
       "      <th>0</th>\n",
       "      <td>Algoritma yang digunakan lebih jelas</td>\n",
       "      <td>Kode yang digunakan lebih banyak</td>\n",
       "    </tr>\n",
       "    <tr>\n",
       "      <th>1</th>\n",
       "      <td>Cocok digunakan untuk projek besar</td>\n",
       "      <td>Lebih banyak menggunakan memori dibandingkan F...</td>\n",
       "    </tr>\n",
       "    <tr>\n",
       "      <th>2</th>\n",
       "      <td>lebih mudah untuk melakukan generalisasi dan s...</td>\n",
       "      <td>Berpotensi besar melakukan generalisasi yang b...</td>\n",
       "    </tr>\n",
       "    <tr>\n",
       "      <th>3</th>\n",
       "      <td>Data yang digunakan dapat diubah</td>\n",
       "      <td>Tidak mendukung pemrograman paralel</td>\n",
       "    </tr>\n",
       "  </tbody>\n",
       "</table>\n",
       "</div>"
      ],
      "text/plain": [
       "                                           kelebihan  \\\n",
       "0              Algoritma yang digunakan lebih jelas    \n",
       "1                Cocok digunakan untuk projek besar    \n",
       "2  lebih mudah untuk melakukan generalisasi dan s...   \n",
       "3                   Data yang digunakan dapat diubah   \n",
       "\n",
       "                                          kekurangan  \n",
       "0                   Kode yang digunakan lebih banyak  \n",
       "1  Lebih banyak menggunakan memori dibandingkan F...  \n",
       "2  Berpotensi besar melakukan generalisasi yang b...  \n",
       "3                Tidak mendukung pemrograman paralel  "
      ]
     },
     "execution_count": 16,
     "metadata": {},
     "output_type": "execute_result"
    }
   ],
   "source": [
    "df = pd.DataFrame(data,columns=[\"kelebihan\", \"kekurangan\"])\n",
    "print(\"2.kelebihan dan kekurangan paradigma object oriented dibandingkan dengan functional\")\n",
    "df"
   ]
  },
  {
   "cell_type": "code",
   "execution_count": 17,
   "id": "16ee2106",
   "metadata": {},
   "outputs": [],
   "source": [
    "data = [[\"memiliki sintaks yang lebih sederhana\",\"sulit untuk membuat program yang fleksibel \"],\n",
    "       [\"Memiliki kecepatan eksekusi yang lebih tinggi\", \"Proses debugging lebih susah dibandingkan Functional\"],\n",
    "       [\"Data yang digunakan dapat diubah\", \"Sulit untuk membuat program yang skalabel \"],\n",
    "       [\"Penulisan loop normal\", \"Proses debugging lebih susah dibandingkan Functional\"]]"
   ]
  },
  {
   "cell_type": "code",
   "execution_count": 18,
   "id": "4699b8ba",
   "metadata": {},
   "outputs": [
    {
     "name": "stdout",
     "output_type": "stream",
     "text": [
      "3.kelebihan dan kekurangan paradigma procedural dibandingkan dengan functional\n"
     ]
    },
    {
     "data": {
      "text/html": [
       "<div>\n",
       "<style scoped>\n",
       "    .dataframe tbody tr th:only-of-type {\n",
       "        vertical-align: middle;\n",
       "    }\n",
       "\n",
       "    .dataframe tbody tr th {\n",
       "        vertical-align: top;\n",
       "    }\n",
       "\n",
       "    .dataframe thead th {\n",
       "        text-align: right;\n",
       "    }\n",
       "</style>\n",
       "<table border=\"1\" class=\"dataframe\">\n",
       "  <thead>\n",
       "    <tr style=\"text-align: right;\">\n",
       "      <th></th>\n",
       "      <th>kelebihan</th>\n",
       "      <th>kekurangan</th>\n",
       "    </tr>\n",
       "  </thead>\n",
       "  <tbody>\n",
       "    <tr>\n",
       "      <th>0</th>\n",
       "      <td>memiliki sintaks yang lebih sederhana</td>\n",
       "      <td>sulit untuk membuat program yang fleksibel</td>\n",
       "    </tr>\n",
       "    <tr>\n",
       "      <th>1</th>\n",
       "      <td>Memiliki kecepatan eksekusi yang lebih tinggi</td>\n",
       "      <td>Proses debugging lebih susah dibandingkan Func...</td>\n",
       "    </tr>\n",
       "    <tr>\n",
       "      <th>2</th>\n",
       "      <td>Data yang digunakan dapat diubah</td>\n",
       "      <td>Sulit untuk membuat program yang skalabel</td>\n",
       "    </tr>\n",
       "    <tr>\n",
       "      <th>3</th>\n",
       "      <td>Penulisan loop normal</td>\n",
       "      <td>Proses debugging lebih susah dibandingkan Func...</td>\n",
       "    </tr>\n",
       "  </tbody>\n",
       "</table>\n",
       "</div>"
      ],
      "text/plain": [
       "                                       kelebihan  \\\n",
       "0          memiliki sintaks yang lebih sederhana   \n",
       "1  Memiliki kecepatan eksekusi yang lebih tinggi   \n",
       "2               Data yang digunakan dapat diubah   \n",
       "3                          Penulisan loop normal   \n",
       "\n",
       "                                          kekurangan  \n",
       "0        sulit untuk membuat program yang fleksibel   \n",
       "1  Proses debugging lebih susah dibandingkan Func...  \n",
       "2         Sulit untuk membuat program yang skalabel   \n",
       "3  Proses debugging lebih susah dibandingkan Func...  "
      ]
     },
     "execution_count": 18,
     "metadata": {},
     "output_type": "execute_result"
    }
   ],
   "source": [
    "df = pd.DataFrame(data,columns=[\"kelebihan\", \"kekurangan\"])\n",
    "print(\"3.kelebihan dan kekurangan paradigma procedural dibandingkan dengan functional\")\n",
    "df"
   ]
  },
  {
   "cell_type": "code",
   "execution_count": 19,
   "id": "69d984e5",
   "metadata": {},
   "outputs": [
    {
     "name": "stdout",
     "output_type": "stream",
     "text": [
      "4.Pure Functional Programming Language merupakan sebuah paradigma pemrograman yang hanya menggunakan fungsi matematis dalam penyelesaian masalah dan pembuatan programnya. Dalam paradigma ini fungsi menerima parameter sebagai input dan mengembalikan nilai, tanpa mengubah nilai dari variabel manapun. Contohnya adalah PureScript, Haskell, dan Idris.\n"
     ]
    }
   ],
   "source": [
    "print(\"4.Pure Functional Programming Language merupakan sebuah paradigma pemrograman yang hanya menggunakan fungsi matematis dalam penyelesaian masalah dan pembuatan programnya. Dalam paradigma ini fungsi menerima parameter sebagai input dan mengembalikan nilai, tanpa mengubah nilai dari variabel manapun. Contohnya adalah PureScript, Haskell, dan Idris.\")"
   ]
  },
  {
   "cell_type": "code",
   "execution_count": 20,
   "id": "d6a8e1a9",
   "metadata": {},
   "outputs": [
    {
     "name": "stdout",
     "output_type": "stream",
     "text": [
      "5.Yang termasuk dalam pure functional programming language adalah Lisp, Haskell, dan Standard ML.\n"
     ]
    }
   ],
   "source": [
    "print(\"5.Yang termasuk dalam pure functional programming language adalah Lisp, Haskell, dan Standard ML.\")"
   ]
  },
  {
   "cell_type": "code",
   "execution_count": 27,
   "id": "aa1df8c0",
   "metadata": {},
   "outputs": [],
   "source": [
    "def password(pas):\n",
    "    if len(pas) > 100:\n",
    "        return \"Error : kata yang anda masukan terlalu panjang\"\n",
    "    \n",
    "    password = \"\"\n",
    "    for char in pas:\n",
    "        ascii_value = ord(char)\n",
    "        first_value =  round((ascii_value / 26)) + 80\n",
    "        second_value = (ascii_value % 26) + 80\n",
    "        third_value = '+' if first_value > second_value else '_'\n",
    "        password += chr(first_value) + chr(second_value) + third_value\n",
    "        \n",
    "    return password"
   ]
  },
  {
   "cell_type": "code",
   "execution_count": 28,
   "id": "2e171995",
   "metadata": {},
   "outputs": [
    {
     "name": "stdout",
     "output_type": "stream",
     "text": [
      "Tc_Ua_T]_Rh_Rf_Rh_Ri_\n"
     ]
    }
   ],
   "source": [
    "print(password (\"ayu2023\"))"
   ]
  },
  {
   "cell_type": "code",
   "execution_count": null,
   "id": "d0a49ae4",
   "metadata": {},
   "outputs": [],
   "source": []
  }
 ],
 "metadata": {
  "kernelspec": {
   "display_name": "Python 3 (ipykernel)",
   "language": "python",
   "name": "python3"
  },
  "language_info": {
   "codemirror_mode": {
    "name": "ipython",
    "version": 3
   },
   "file_extension": ".py",
   "mimetype": "text/x-python",
   "name": "python",
   "nbconvert_exporter": "python",
   "pygments_lexer": "ipython3",
   "version": "3.9.13"
  }
 },
 "nbformat": 4,
 "nbformat_minor": 5
}
